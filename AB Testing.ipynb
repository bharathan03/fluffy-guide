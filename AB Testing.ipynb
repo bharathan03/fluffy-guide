{
 "cells": [
  {
   "cell_type": "markdown",
   "id": "378a09f3",
   "metadata": {},
   "source": [
    "### A/B Testing "
   ]
  },
  {
   "cell_type": "markdown",
   "id": "58aa315d",
   "metadata": {},
   "source": [
    "Dataset used: Marketing A/B Testing from Kaggle \n",
    "- Objective: To view the visual elements and run statistical tests \n",
    "\n",
    "Columns in dataset:\n",
    "- Index: Row index\n",
    "- user id: User ID (unique)\n",
    "- test group: If \"ad\" the person saw the advertisement, if \"psa\" they only saw the public service announcement\n",
    "- converted: If a person bought the product then True, else is False\n",
    "- total ads: Amount of ads seen by person\n",
    "- most ads day: Day that the person saw the biggest amount of ads\n",
    "- most ads hour: Hour of day that the person saw the biggest amount of ads\n"
   ]
  },
  {
   "cell_type": "code",
   "execution_count": null,
   "id": "69e86c14",
   "metadata": {},
   "outputs": [],
   "source": [
    "# Import basic libraries \n",
    "import numpy as np \n",
    "import pandas as pd\n",
    "import matplotlib.pyplot as plt \n",
    "import seaborn as sns \n",
    "\n",
    "import warnings \n",
    "warnings.filterwarnings('ignore')"
   ]
  },
  {
   "cell_type": "markdown",
   "id": "73ef2732",
   "metadata": {},
   "source": [
    "Importing the dataset "
   ]
  },
  {
   "cell_type": "code",
   "execution_count": 10,
   "id": "46f1f716",
   "metadata": {},
   "outputs": [
    {
     "data": {
      "text/html": [
       "<div>\n",
       "<style scoped>\n",
       "    .dataframe tbody tr th:only-of-type {\n",
       "        vertical-align: middle;\n",
       "    }\n",
       "\n",
       "    .dataframe tbody tr th {\n",
       "        vertical-align: top;\n",
       "    }\n",
       "\n",
       "    .dataframe thead th {\n",
       "        text-align: right;\n",
       "    }\n",
       "</style>\n",
       "<table border=\"1\" class=\"dataframe\">\n",
       "  <thead>\n",
       "    <tr style=\"text-align: right;\">\n",
       "      <th></th>\n",
       "      <th>Unnamed: 0</th>\n",
       "      <th>user id</th>\n",
       "      <th>test group</th>\n",
       "      <th>converted</th>\n",
       "      <th>total ads</th>\n",
       "      <th>most ads day</th>\n",
       "      <th>most ads hour</th>\n",
       "    </tr>\n",
       "  </thead>\n",
       "  <tbody>\n",
       "    <tr>\n",
       "      <th>0</th>\n",
       "      <td>0</td>\n",
       "      <td>1069124</td>\n",
       "      <td>ad</td>\n",
       "      <td>False</td>\n",
       "      <td>130</td>\n",
       "      <td>Monday</td>\n",
       "      <td>20</td>\n",
       "    </tr>\n",
       "    <tr>\n",
       "      <th>1</th>\n",
       "      <td>1</td>\n",
       "      <td>1119715</td>\n",
       "      <td>ad</td>\n",
       "      <td>False</td>\n",
       "      <td>93</td>\n",
       "      <td>Tuesday</td>\n",
       "      <td>22</td>\n",
       "    </tr>\n",
       "    <tr>\n",
       "      <th>2</th>\n",
       "      <td>2</td>\n",
       "      <td>1144181</td>\n",
       "      <td>ad</td>\n",
       "      <td>False</td>\n",
       "      <td>21</td>\n",
       "      <td>Tuesday</td>\n",
       "      <td>18</td>\n",
       "    </tr>\n",
       "    <tr>\n",
       "      <th>3</th>\n",
       "      <td>3</td>\n",
       "      <td>1435133</td>\n",
       "      <td>ad</td>\n",
       "      <td>False</td>\n",
       "      <td>355</td>\n",
       "      <td>Tuesday</td>\n",
       "      <td>10</td>\n",
       "    </tr>\n",
       "    <tr>\n",
       "      <th>4</th>\n",
       "      <td>4</td>\n",
       "      <td>1015700</td>\n",
       "      <td>ad</td>\n",
       "      <td>False</td>\n",
       "      <td>276</td>\n",
       "      <td>Friday</td>\n",
       "      <td>14</td>\n",
       "    </tr>\n",
       "  </tbody>\n",
       "</table>\n",
       "</div>"
      ],
      "text/plain": [
       "   Unnamed: 0  user id test group  converted  total ads most ads day  \\\n",
       "0           0  1069124         ad      False        130       Monday   \n",
       "1           1  1119715         ad      False         93      Tuesday   \n",
       "2           2  1144181         ad      False         21      Tuesday   \n",
       "3           3  1435133         ad      False        355      Tuesday   \n",
       "4           4  1015700         ad      False        276       Friday   \n",
       "\n",
       "   most ads hour  \n",
       "0             20  \n",
       "1             22  \n",
       "2             18  \n",
       "3             10  \n",
       "4             14  "
      ]
     },
     "execution_count": 10,
     "metadata": {},
     "output_type": "execute_result"
    }
   ],
   "source": [
    "df = pd.read_csv(r\"C:\\Users\\basbh\\Documents\\Projects\\AB_Testing\\marketing_AB.csv\")\n",
    "df.head()"
   ]
  },
  {
   "cell_type": "code",
   "execution_count": 11,
   "id": "6d354472",
   "metadata": {},
   "outputs": [
    {
     "data": {
      "text/plain": [
       "0"
      ]
     },
     "execution_count": 11,
     "metadata": {},
     "output_type": "execute_result"
    }
   ],
   "source": [
    "# Check for duplicated user id\n",
    "df.duplicated(subset='user id').sum()"
   ]
  },
  {
   "cell_type": "markdown",
   "id": "657b0d3f",
   "metadata": {},
   "source": [
    "- \"Unnamed: 0\" column will not be used for any predictor anywhere \n",
    "- \"user id\" column will not be any use to predict anything "
   ]
  },
  {
   "cell_type": "code",
   "execution_count": 12,
   "id": "838535fa",
   "metadata": {},
   "outputs": [],
   "source": [
    "#Drop unwanted columns (drop the index number column and user id column as they will not be the predictor of anything)\n",
    "df.drop(['Unnamed: 0','user id'],axis=1,inplace=True)"
   ]
  },
  {
   "cell_type": "code",
   "execution_count": 13,
   "id": "14d672be",
   "metadata": {},
   "outputs": [
    {
     "data": {
      "text/plain": [
       "Index(['test group', 'converted', 'total ads', 'most ads day',\n",
       "       'most ads hour'],\n",
       "      dtype='object')"
      ]
     },
     "execution_count": 13,
     "metadata": {},
     "output_type": "execute_result"
    }
   ],
   "source": [
    "df.columns"
   ]
  },
  {
   "cell_type": "code",
   "execution_count": null,
   "id": "0ac76385",
   "metadata": {},
   "outputs": [
    {
     "data": {
      "text/plain": [
       "test group        2\n",
       "converted         2\n",
       "most ads day      7\n",
       "most ads hour    24\n",
       "dtype: int64"
      ]
     },
     "execution_count": 14,
     "metadata": {},
     "output_type": "execute_result"
    }
   ],
   "source": [
    "# Check if the categorical group have appropriate number of data\n",
    "# Create a data frame. (most ads hour is the time in 24 hour format)\n",
    "df_cat = df[['test group','converted','most ads day','most ads hour']]\n",
    "df_cat.nunique() # Check number of unique categories "
   ]
  },
  {
   "cell_type": "code",
   "execution_count": 15,
   "id": "45428da9",
   "metadata": {},
   "outputs": [
    {
     "name": "stdout",
     "output_type": "stream",
     "text": [
      "TEST GROUP : ['ad' 'psa']\n",
      "CONVERTED : [False  True]\n",
      "MOST ADS DAY : ['Monday' 'Tuesday' 'Friday' 'Saturday' 'Wednesday' 'Sunday' 'Thursday']\n",
      "MOST ADS HOUR : [20 22 18 10 14 13 19 11 12 16 21  3 23  4  8  0  2 15  1  6 17  7  9  5]\n"
     ]
    }
   ],
   "source": [
    "# Check if the categorical varaibles have appropriate data\n",
    "for i in df_cat:\n",
    "    print(i.upper(),\":\",df_cat[i].unique())"
   ]
  },
  {
   "cell_type": "markdown",
   "id": "10bf7a7e",
   "metadata": {},
   "source": [
    "### Univariate Analysis\n",
    "- Visualise each variable "
   ]
  },
  {
   "cell_type": "code",
   "execution_count": 16,
   "id": "a1d30479",
   "metadata": {},
   "outputs": [
    {
     "data": {
      "image/png": "[encoded data removed]",
      "text/plain": [
       "<Figure size 432x288 with 2 Axes>"
      ]
     },
     "metadata": {
      "needs_background": "light"
     },
     "output_type": "display_data"
    }
   ],
   "source": [
    "variable = 'test group'\n",
    "\n",
    "plt.figure(figsize= (6,4)) # Setting up figure size\n",
    "# Count plot \n",
    "plt.subplot(1,2,1) # placing 2 plots side by side \n",
    "sns.countplot(x=variable,data=df_cat)\n",
    "plt.title (f'Count Plot - {variable}')\n",
    "\n",
    "#Pie Chart\n",
    "plt.subplot(1,2,2)\n",
    "counts = df_cat[variable].value_counts()\n",
    "plt.pie(counts,labels=counts.index,autopct='%0.2f%%')\n",
    "\n",
    "plt.tight_layout()\n",
    "\n",
    "plt.show()"
   ]
  },
  {
   "cell_type": "code",
   "execution_count": 17,
   "id": "40795f64",
   "metadata": {},
   "outputs": [
    {
     "data": {
      "image/png": "[encoded data removed]",
      "text/plain": [
       "<Figure size 432x288 with 2 Axes>"
      ]
     },
     "metadata": {
      "needs_background": "light"
     },
     "output_type": "display_data"
    }
   ],
   "source": [
    "variable = 'converted'\n",
    "\n",
    "plt.figure(figsize= (6,4)) # Setting up figure size\n",
    "# Count plot \n",
    "plt.subplot(1,2,1) # placing 2 plots side by side \n",
    "sns.countplot(x=variable,data=df_cat)\n",
    "plt.title (f'Count Plot - {variable}')\n",
    "\n",
    "#Pie Chart\n",
    "plt.subplot(1,2,2)\n",
    "counts = df_cat[variable].value_counts()\n",
    "plt.pie(counts,labels=counts.index,autopct='%0.2f%%')\n",
    "\n",
    "plt.tight_layout()\n",
    "\n",
    "plt.show()"
   ]
  },
  {
   "cell_type": "code",
   "execution_count": 18,
   "id": "caff076b",
   "metadata": {},
   "outputs": [
    {
     "data": {
      "image/png": "[encoded data removed]",
      "text/plain": [
       "<Figure size 432x288 with 2 Axes>"
      ]
     },
     "metadata": {
      "needs_background": "light"
     },
     "output_type": "display_data"
    }
   ],
   "source": [
    "variable = 'most ads day'\n",
    "\n",
    "plt.figure(figsize= (6,4)) # Setting up figure size\n",
    "# Count plot \n",
    "plt.subplot(1,2,1) # placing 2 plots side by side \n",
    "sns.countplot(x=variable,data=df_cat,order=df_cat['most ads day'].value_counts().index)\n",
    "#.value_counts() gives it in descending order\n",
    "plt.title (f'Count Plot - {variable}')\n",
    "plt.xticks(rotation = 90)\n",
    "\n",
    "#Pie Chart\n",
    "plt.subplot(1,2,2)\n",
    "counts = df_cat[variable].value_counts()\n",
    "plt.pie(counts,labels=counts.index,autopct='%0.2f%%')\n",
    "\n",
    "plt.tight_layout()\n",
    "\n",
    "plt.show()"
   ]
  },
  {
   "cell_type": "code",
   "execution_count": 19,
   "id": "0cd98878",
   "metadata": {},
   "outputs": [
    {
     "data": {
      "image/png": "[encoded data removed]",
      "text/plain": [
       "<Figure size 576x288 with 2 Axes>"
      ]
     },
     "metadata": {
      "needs_background": "light"
     },
     "output_type": "display_data"
    }
   ],
   "source": [
    "variable = 'most ads hour'\n",
    "\n",
    "plt.figure(figsize= (8,4)) # Setting up figure size\n",
    "# Count plot \n",
    "plt.subplot(1,2,1) # placing 2 plots side by side \n",
    "sns.countplot(x=variable,data=df_cat,order=df_cat['most ads hour'].value_counts().index)\n",
    "#.value_counts() gives it in descending order\n",
    "plt.title (f'Count Plot - {variable}')\n",
    "plt.xticks(rotation = 90)\n",
    "\n",
    "#Pie Chart\n",
    "plt.subplot(1,2,2)\n",
    "counts = df_cat[variable].value_counts()\n",
    "plt.pie(counts,labels=counts.index,autopct='%0.2f%%')\n",
    "plt.title (f'Count Plot - {variable}')\n",
    "\n",
    "plt.tight_layout()\n",
    "\n",
    "plt.show()"
   ]
  },
  {
   "cell_type": "code",
   "execution_count": 20,
   "id": "01a8d52b",
   "metadata": {},
   "outputs": [
    {
     "data": {
      "image/png": "[encoded data removed]",
      "text/plain": [
       "<Figure size 432x288 with 2 Axes>"
      ]
     },
     "metadata": {
      "needs_background": "light"
     },
     "output_type": "display_data"
    }
   ],
   "source": [
    "variable = 'total ads'\n",
    "\n",
    "plt.figure(figsize= (6,4)) # Setting up figure size\n",
    "# Count plot \n",
    "plt.subplot(1,2,1) # placing 2 plots side by side \n",
    "sns.histplot(x=variable,data=df)\n",
    "#.value_counts() gives it in descending order\n",
    "plt.title (f'Histogram - {variable}')\n",
    "\n",
    "\n",
    "#Pie Chart\n",
    "plt.subplot(1,2,2)\n",
    "sns.boxplot(y = variable , data=df)\n",
    "plt.title (f'BoxPlot - {variable}')\n",
    "\n",
    "plt.tight_layout()\n",
    "\n",
    "plt.show()\n"
   ]
  },
  {
   "cell_type": "code",
   "execution_count": 21,
   "id": "a81b55d1",
   "metadata": {},
   "outputs": [
    {
     "data": {
      "text/plain": [
       "count    588101.000000\n",
       "mean         24.820876\n",
       "std          43.715181\n",
       "min           1.000000\n",
       "25%           4.000000\n",
       "50%          13.000000\n",
       "75%          27.000000\n",
       "max        2065.000000\n",
       "Name: total ads, dtype: float64"
      ]
     },
     "execution_count": 21,
     "metadata": {},
     "output_type": "execute_result"
    }
   ],
   "source": [
    "df['total ads'].describe()"
   ]
  },
  {
   "cell_type": "markdown",
   "id": "c4366a90",
   "metadata": {},
   "source": [
    "After determining the quantiles, we filter the columns to get a better visualisation. Filering toal ads that are less than 50"
   ]
  },
  {
   "cell_type": "code",
   "execution_count": 22,
   "id": "296ba434",
   "metadata": {},
   "outputs": [
    {
     "data": {
      "image/png": "[encoded data removed]",
      "text/plain": [
       "<Figure size 432x288 with 2 Axes>"
      ]
     },
     "metadata": {
      "needs_background": "light"
     },
     "output_type": "display_data"
    }
   ],
   "source": [
    "variable = 'total ads'\n",
    "\n",
    "plt.figure(figsize= (6,4)) # Setting up figure size\n",
    "# Count plot \n",
    "plt.subplot(1,2,1) # placing 2 plots side by side \n",
    "sns.histplot(x=variable,data=df[df['total ads']<50])\n",
    "#.value_counts() gives it in descending order\n",
    "plt.title (f'Histogram - {variable}')\n",
    "\n",
    "\n",
    "#Pie Chart\n",
    "plt.subplot(1,2,2)\n",
    "sns.boxplot(y = variable , data=df[df['total ads']<50])\n",
    "plt.title (f'BoxPlot - {variable}')\n",
    "\n",
    "plt.tight_layout()\n",
    "\n",
    "plt.show()\n"
   ]
  },
  {
   "cell_type": "markdown",
   "id": "15d6c796",
   "metadata": {},
   "source": [
    "Median on the boxplot is around 10 ads "
   ]
  },
  {
   "cell_type": "markdown",
   "id": "bd28f15d",
   "metadata": {},
   "source": [
    "### Bivariate Analysis\n",
    "- Pair everything with the target column "
   ]
  },
  {
   "cell_type": "code",
   "execution_count": 23,
   "id": "d553c159",
   "metadata": {},
   "outputs": [
    {
     "data": {
      "text/plain": [
       "Index(['test group', 'converted', 'total ads', 'most ads day',\n",
       "       'most ads hour'],\n",
       "      dtype='object')"
      ]
     },
     "execution_count": 23,
     "metadata": {},
     "output_type": "execute_result"
    }
   ],
   "source": [
    "df.columns "
   ]
  },
  {
   "cell_type": "code",
   "execution_count": 24,
   "id": "165fc117",
   "metadata": {},
   "outputs": [
    {
     "data": {
      "text/html": [
       "<div>\n",
       "<style scoped>\n",
       "    .dataframe tbody tr th:only-of-type {\n",
       "        vertical-align: middle;\n",
       "    }\n",
       "\n",
       "    .dataframe tbody tr th {\n",
       "        vertical-align: top;\n",
       "    }\n",
       "\n",
       "    .dataframe thead th {\n",
       "        text-align: right;\n",
       "    }\n",
       "</style>\n",
       "<table border=\"1\" class=\"dataframe\">\n",
       "  <thead>\n",
       "    <tr style=\"text-align: right;\">\n",
       "      <th>converted</th>\n",
       "      <th>False</th>\n",
       "      <th>True</th>\n",
       "    </tr>\n",
       "    <tr>\n",
       "      <th>test group</th>\n",
       "      <th></th>\n",
       "      <th></th>\n",
       "    </tr>\n",
       "  </thead>\n",
       "  <tbody>\n",
       "    <tr>\n",
       "      <th>ad</th>\n",
       "      <td>0.974453</td>\n",
       "      <td>0.025547</td>\n",
       "    </tr>\n",
       "    <tr>\n",
       "      <th>psa</th>\n",
       "      <td>0.982146</td>\n",
       "      <td>0.017854</td>\n",
       "    </tr>\n",
       "  </tbody>\n",
       "</table>\n",
       "</div>"
      ],
      "text/plain": [
       "converted      False      True\n",
       "test group                    \n",
       "ad          0.974453  0.025547\n",
       "psa         0.982146  0.017854"
      ]
     },
     "execution_count": 24,
     "metadata": {},
     "output_type": "execute_result"
    }
   ],
   "source": [
    "# When pairing two categorical variables, the general idea is to create a cross tab\n",
    "# Cross tab taking 2 categorical variables and one variable will always be the target column\n",
    "# Normalizing it means dividing by the row total \n",
    "ct_conversion_test_group = pd.crosstab(df['test group'],df['converted'],normalize='index')\n",
    "ct_conversion_test_group"
   ]
  },
  {
   "cell_type": "markdown",
   "id": "c040861e",
   "metadata": {},
   "source": [
    "Of all people who have seen the ad, only 2.5% have purchased\n",
    "Of people who have seen the psa, only 1.7% have purchased "
   ]
  },
  {
   "cell_type": "code",
   "execution_count": null,
   "id": "15747c74",
   "metadata": {},
   "outputs": [
    {
     "data": {
      "text/plain": [
       "<AxesSubplot:xlabel='test group'>"
      ]
     },
     "execution_count": 25,
     "metadata": {},
     "output_type": "execute_result"
    },
    {
     "data": {
      "image/png": "[encoded data removed]",
      "text/plain": [
       "<Figure size 432x288 with 1 Axes>"
      ]
     },
     "metadata": {
      "needs_background": "light"
     },
     "output_type": "display_data"
    }
   ],
   "source": [
    "# Create visualisation from the top \n",
    "ct_conversion_test_group.plot.bar(stacked=True)"
   ]
  },
  {
   "cell_type": "code",
   "execution_count": 26,
   "id": "fc2ce5db",
   "metadata": {},
   "outputs": [
    {
     "name": "stdout",
     "output_type": "stream",
     "text": [
      "converted        False      True\n",
      "most ads day                    \n",
      "Monday        0.967188  0.032812\n",
      "Tuesday       0.970160  0.029840\n",
      "Wednesday     0.975058  0.024942\n",
      "Sunday        0.975524  0.024476\n",
      "Friday        0.977788  0.022212\n",
      "Thursday      0.978429  0.021571\n",
      "Saturday      0.978949  0.021051\n"
     ]
    },
    {
     "data": {
      "text/plain": [
       "<AxesSubplot:xlabel='most ads day'>"
      ]
     },
     "execution_count": 26,
     "metadata": {},
     "output_type": "execute_result"
    },
    {
     "data": {
      "image/png": "[encoded data removed]",
      "text/plain": [
       "<Figure size 432x288 with 1 Axes>"
      ]
     },
     "metadata": {
      "needs_background": "light"
     },
     "output_type": "display_data"
    }
   ],
   "source": [
    "ct_conversion_day = pd.crosstab(df['most ads day'],df['converted'],normalize='index')\n",
    "# 7 days a week sorted in ascending order\n",
    "print(ct_conversion_day.sort_values(by =True,ascending=False))\n",
    "ct_conversion_day.plot.bar(stacked = True)"
   ]
  },
  {
   "cell_type": "code",
   "execution_count": 27,
   "id": "c7b0c4f5",
   "metadata": {},
   "outputs": [
    {
     "name": "stdout",
     "output_type": "stream",
     "text": [
      "converted         False      True\n",
      "most ads hour                    \n",
      "16             0.969228  0.030772\n",
      "20             0.970197  0.029803\n",
      "15             0.970347  0.029653\n",
      "21             0.971077  0.028923\n",
      "17             0.971790  0.028210\n",
      "14             0.971937  0.028063\n",
      "18             0.972620  0.027380\n",
      "19             0.973280  0.026720\n",
      "22             0.973895  0.026105\n",
      "13             0.975323  0.024677\n",
      "12             0.976172  0.023828\n",
      "23             0.977338  0.022662\n",
      "6              0.977756  0.022244\n",
      "11             0.977884  0.022116\n",
      "10             0.978479  0.021521\n",
      "5              0.979085  0.020915\n",
      "8              0.980484  0.019516\n",
      "9              0.980809  0.019191\n",
      "0              0.981575  0.018425\n",
      "7              0.981889  0.018111\n",
      "4              0.984765  0.015235\n",
      "1              0.987089  0.012911\n",
      "3              0.989548  0.010452\n",
      "2              0.992687  0.007313\n"
     ]
    },
    {
     "data": {
      "text/plain": [
       "<AxesSubplot:xlabel='most ads hour'>"
      ]
     },
     "execution_count": 27,
     "metadata": {},
     "output_type": "execute_result"
    },
    {
     "data": {
      "image/png": "[encoded data removed]",
      "text/plain": [
       "<Figure size 432x288 with 1 Axes>"
      ]
     },
     "metadata": {
      "needs_background": "light"
     },
     "output_type": "display_data"
    }
   ],
   "source": [
    "ct_conversion_hour= pd.crosstab(df['most ads hour'],df['converted'],normalize='index')\n",
    "print(ct_conversion_hour.sort_values(by =True,ascending=False))\n",
    "ct_conversion_hour.plot.bar(stacked = True) "
   ]
  },
  {
   "cell_type": "code",
   "execution_count": 28,
   "id": "69df9e7c",
   "metadata": {},
   "outputs": [
    {
     "data": {
      "text/plain": [
       "<AxesSubplot:xlabel='converted', ylabel='total ads'>"
      ]
     },
     "execution_count": 28,
     "metadata": {},
     "output_type": "execute_result"
    },
    {
     "data": {
      "image/png": "[encoded data removed]",
      "text/plain": [
       "<Figure size 432x288 with 1 Axes>"
      ]
     },
     "metadata": {
      "needs_background": "light"
     },
     "output_type": "display_data"
    }
   ],
   "source": [
    "sns.boxplot(x = 'converted',y='total ads',data=df)"
   ]
  },
  {
   "cell_type": "markdown",
   "id": "bc533d25",
   "metadata": {},
   "source": [
    "Reduce the interval "
   ]
  },
  {
   "cell_type": "code",
   "execution_count": 29,
   "id": "7a3fc1ed",
   "metadata": {},
   "outputs": [
    {
     "data": {
      "text/plain": [
       "<AxesSubplot:xlabel='converted', ylabel='total ads'>"
      ]
     },
     "execution_count": 29,
     "metadata": {},
     "output_type": "execute_result"
    },
    {
     "data": {
      "image/png": "[encoded data removed]",
      "text/plain": [
       "<Figure size 432x288 with 1 Axes>"
      ]
     },
     "metadata": {
      "needs_background": "light"
     },
     "output_type": "display_data"
    }
   ],
   "source": [
    "sns.boxplot(x = 'converted',y='total ads',data=df[df['total ads']<50])"
   ]
  },
  {
   "cell_type": "markdown",
   "id": "56a352d8",
   "metadata": {},
   "source": [
    "Median number of ads when people have purchased the product is around 25 whilist the people who did not purchase the product is around 10. The different number of times the ads were shown to people could also affect whether or not they purchased(conversion)"
   ]
  },
  {
   "cell_type": "markdown",
   "id": "f239a820",
   "metadata": {},
   "source": [
    "## Statistical tests"
   ]
  },
  {
   "cell_type": "markdown",
   "id": "17836524",
   "metadata": {},
   "source": [
    "When there are 2 categorical variables and their dependency, we will perform chi^2 test. Our target column which is \"conversion status\" is categorical (True/ False). We will pair this variable with converted and other categorical features "
   ]
  },
  {
   "cell_type": "code",
   "execution_count": null,
   "id": "14379293",
   "metadata": {},
   "outputs": [
    {
     "name": "stdout",
     "output_type": "stream",
     "text": [
      "\n",
      "Chi-squared test for test group vs converted: \n",
      "Chi-squared value: 54.005823883685245\n",
      "p-value: 1.9989623063390075e-13\n",
      "The difference in conversion rates across test group is statistically significant.\n",
      "\n",
      "Chi-squared test for most ads day vs converted: \n",
      "Chi-squared value: 410.0478857936585\n",
      "p-value: 1.932184379244731e-85\n",
      "The difference in conversion rates across most ads day is statistically significant.\n",
      "\n",
      "Chi-squared test for most ads hour vs converted: \n",
      "Chi-squared value: 430.76869230822086\n",
      "p-value: 8.027629823696771e-77\n",
      "The difference in conversion rates across most ads hour is statistically significant.\n"
     ]
    }
   ],
   "source": [
    "from scipy.stats import chi2_contingency\n",
    "alpha = 0.5 \n",
    "for variable in df_cat.columns:\n",
    "    if variable != 'converted': # Not pairing the target categorical column with itself \n",
    "        # Create a contingency table (cross-tabulation)\n",
    "        contingency_table = pd.crosstab(df_cat[variable],df_cat['converted'])\n",
    "\n",
    "        # Perform chi-squared test\n",
    "        # Returns multiple outputs: test statistic, p value, degree of freedom,expected frequency\n",
    "        chi2,p,_,_ = chi2_contingency(contingency_table)\n",
    "\n",
    "        #Display the results \n",
    "        print(f\"\\nChi-squared test for {variable} vs converted: \")\n",
    "        print(f\"Chi-squared value: {chi2}\")\n",
    "        print(f\"p-value: {p}\") \n",
    "\n",
    "        #Check for significance \n",
    "        if p<alpha: # If P value is less than alpha(level of significance) \n",
    "            # Means showing the ad makes a difference \n",
    "            print(f\"The difference in conversion rates across {variable} is statistically significant.\") \n",
    "        else: \n",
    "            # Showing the ad doesnt make a differnce \n",
    "            print(f\"There is no significant difference in conversion rates across{variable}\") "
   ]
  },
  {
   "cell_type": "markdown",
   "id": "6a6f8abf",
   "metadata": {},
   "source": [
    "e-13 means 10^(-13) \n",
    "e-85 means 10^(-85) \n",
    "Results \n",
    "- If the p-value is between 0 and 1, it indicates that the strength of evidence against the null hypothesis (Meaning showing ads  does not make a difference) \n",
    "- A smaller P value than the alpha indicates a stronger evidence that the null hypothesis is false (Meaning showing ads makes a difference) \n",
    "- Showing the ad makes a difference \n",
    "- Output proves that conversion rate Depends on what day of the week the ads are being shown\n",
    "- When you're showing the ad throughout the day makes a difference (Focus on certain hours)\n",
    "\n"
   ]
  },
  {
   "cell_type": "markdown",
   "id": "84139304",
   "metadata": {},
   "source": [
    "##  Performing test between Numerical variable and converted column"
   ]
  },
  {
   "cell_type": "code",
   "execution_count": null,
   "id": "0c276a33",
   "metadata": {},
   "outputs": [
    {
     "name": "stdout",
     "output_type": "stream",
     "text": [
      "Shapiro-Wilk test for normality (True Group): p-vlaue = 0.0\n",
      "Shapiro-Wilk test for normality (False Group): p-vlaue = 0.0\n",
      "Levene's test for equality of variances:p-value - 0.0\n"
     ]
    }
   ],
   "source": [
    "from scipy.stats import shapiro, levene, ttest_ind, mannwhitneyu \n",
    "\n",
    "# Step 1 : Check Assumptions \n",
    "# Normality assumption\n",
    "# Segregated by the total number of ads seen by people who have converted \n",
    "shapiro_stat_true,shapiro_p_value_true = shapiro(df[df['converted'] == True]['total ads'])\n",
    "# sample for people who have not converted, whats the distribution of the total number of ads seen by them \n",
    "shapiro_stat_false,shapiro_p_value_false = shapiro(df[df['converted'] == False]['total ads'])\n",
    "\n",
    "# Indicates wether true and false are normality distributed or not \n",
    "print(f\"Shapiro-Wilk test for normality (True Group): p-vlaue = {shapiro_p_value_true}\")\n",
    "print(f\"Shapiro-Wilk test for normality (False Group): p-vlaue = {shapiro_p_value_false}\")\n",
    "\n",
    "# Equality of variances assumption\n",
    "levene_stat, levene_p_value = levene(df[df['converted']]['total ads'],df [~df['converted']]['total ads'])\n",
    "#[~df['converted'] = False\n",
    "# df['converted'] = True \n",
    "print(f\"Levene's test for equality of variances:p-value - {levene_p_value}\")\n"
   ]
  },
  {
   "cell_type": "code",
   "execution_count": null,
   "id": "f1010c6a",
   "metadata": {},
   "outputs": [
    {
     "name": "stdout",
     "output_type": "stream",
     "text": [
      "Mann-Whiteney U test: p-value = 0.0\n"
     ]
    }
   ],
   "source": [
    "# Step 2: Perform a Suitable Test \n",
    "alpha = 0.05 \n",
    "\n",
    "if shapiro_p_value_true > alpha and shapiro_p_value_false > alpha and levene_p_value > alpha: # If both assumptions are normally distributed\n",
    "    # Assumptions met - use t-test for means \n",
    "    t_stat,t_p_value, = ttest_ind(df[df['converted']]['total ads'],df[~df['converted']]['total ads']) # Input the case of true and false (distribution of total ads )\n",
    "    print(f\"Independent two-sample t-test: p-value = {t_p_value}\")\n",
    "else:\n",
    "    # Assumptions not met - use Mann-Whiteney U test for medians \n",
    "    u_stat, u_p_value, = mannwhitneyu(df[df['converted']]['total ads'], df[~df['converted']]['total ads'])\n",
    "    print(f\"Mann-Whiteney U test: p-value = {u_p_value}\")"
   ]
  },
  {
   "cell_type": "markdown",
   "id": "62bc2455",
   "metadata": {},
   "source": [
    "- Assumptions that both converted groups are normally distributed are not satisfied in any of the shapiro-wilk test. P value of 0 does not indicate a normally distributed dataset.\n",
    "- perform a Mann-Whiteney U test and the p value is 0 \n"
   ]
  },
  {
   "cell_type": "markdown",
   "id": "daaf278f",
   "metadata": {},
   "source": [
    "Conclusion: All the factors played a part in whether or not the people purchased the product "
   ]
  },
  {
   "cell_type": "code",
   "execution_count": null,
   "id": "bc6180c5",
   "metadata": {},
   "outputs": [],
   "source": []
  }
 ],
 "metadata": {
  "kernelspec": {
   "display_name": "base",
   "language": "python",
   "name": "python3"
  },
  "language_info": {
   "codemirror_mode": {
    "name": "ipython",
    "version": 3
   },
   "file_extension": ".py",
   "mimetype": "text/x-python",
   "name": "python",
   "nbconvert_exporter": "python",
   "pygments_lexer": "ipython3",
   "version": "3.9.12"
  }
 },
 "nbformat": 4,
 "nbformat_minor": 5
}
